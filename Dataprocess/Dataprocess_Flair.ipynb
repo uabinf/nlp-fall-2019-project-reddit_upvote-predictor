{
 "cells": [
  {
   "cell_type": "code",
   "execution_count": 24,
   "metadata": {},
   "outputs": [],
   "source": [
    "import pandas as pd"
   ]
  },
  {
   "cell_type": "code",
   "execution_count": 25,
   "metadata": {},
   "outputs": [],
   "source": [
    "newdata = pd.read_csv('data/data.csv')\n",
    "newdata = newdata[0:100000]\n",
    "newdata['comment_body'] = newdata['comment_body'].str.replace('([“”¨«»®´·º½¾¿¡§£₤‘’\\n\\r>])', '')\n",
    "newdata['length'] = [len(x) for x in newdata['comment_body']]\n",
    "newdata = newdata.dropna()\n",
    "ids = [i for i in range(len(newdata))]\n",
    "ups = list(newdata[\"upvotes\"])"
   ]
  },
  {
   "cell_type": "code",
   "execution_count": 26,
   "metadata": {},
   "outputs": [],
   "source": [
    "newdata = newdata[newdata.length <= 512]"
   ]
  },
  {
   "cell_type": "code",
   "execution_count": 27,
   "metadata": {},
   "outputs": [],
   "source": [
    "val = [0]*len(newdata)\n",
    "for i in range(len(newdata)):\n",
    "    x = ups[i]\n",
    "    if x < 0:\n",
    "        val[i] = \"__label__poor\"\n",
    "    elif (x>=1 and x<=3):\n",
    "        val[i] = \"__label__normal\"\n",
    "    elif (x>=4 and x<=9):\n",
    "        val[i] = \"__label__good\"\n",
    "    elif (x>=10):\n",
    "        val[i] = \"__label__best\"\n",
    "newdata[\"label\"] = val\n",
    "cols = [\"label\", \"comment_body\"]\n",
    "newdata = newdata[cols]\n",
    "newdata\n",
    "newdata.rename(columns={\"comment_body\":\"text\"}, inplace=True)\n",
    "newdata.to_csv(\"flairdata/all-labeled.csv\", index=False)"
   ]
  },
  {
   "cell_type": "code",
   "execution_count": 28,
   "metadata": {},
   "outputs": [],
   "source": [
    "newdata = newdata[newdata.label != 0]"
   ]
  },
  {
   "cell_type": "code",
   "execution_count": 29,
   "metadata": {},
   "outputs": [
    {
     "data": {
      "text/plain": [
       "77433"
      ]
     },
     "execution_count": 29,
     "metadata": {},
     "output_type": "execute_result"
    }
   ],
   "source": [
    "newdata = newdata.sample(frac=1).reset_index(drop=True)\n",
    "splitby = int(0.8*len(newdata))\n",
    "splitby1 = int(0.9*len(newdata))\n",
    "train_data = newdata[:splitby]\n",
    "test_data = newdata[splitby:splitby1]\n",
    "val_data = newdata[splitby1:]\n",
    "train_data = train_data.dropna()\n",
    "test_data = test_data.dropna()\n",
    "val_data = val_data.dropna()\n",
    "len(train_data)"
   ]
  },
  {
   "cell_type": "code",
   "execution_count": 30,
   "metadata": {},
   "outputs": [],
   "source": [
    "train_data.to_csv(\"flairdata/train.csv\", index=False)\n",
    "test_data.to_csv(\"flairdata/test.csv\", index=False)\n",
    "val_data.to_csv(\"flairdata/val.csv\", index=False)"
   ]
  },
  {
   "cell_type": "code",
   "execution_count": 31,
   "metadata": {},
   "outputs": [
    {
     "data": {
      "text/html": [
       "<div>\n",
       "<style scoped>\n",
       "    .dataframe tbody tr th:only-of-type {\n",
       "        vertical-align: middle;\n",
       "    }\n",
       "\n",
       "    .dataframe tbody tr th {\n",
       "        vertical-align: top;\n",
       "    }\n",
       "\n",
       "    .dataframe thead th {\n",
       "        text-align: right;\n",
       "    }\n",
       "</style>\n",
       "<table border=\"1\" class=\"dataframe\">\n",
       "  <thead>\n",
       "    <tr style=\"text-align: right;\">\n",
       "      <th></th>\n",
       "      <th>label</th>\n",
       "      <th>text</th>\n",
       "    </tr>\n",
       "  </thead>\n",
       "  <tbody>\n",
       "    <tr>\n",
       "      <th>0</th>\n",
       "      <td>__label__normal</td>\n",
       "      <td>Luke throwing the lightsaber over his shoulder...</td>\n",
       "    </tr>\n",
       "    <tr>\n",
       "      <th>1</th>\n",
       "      <td>__label__normal</td>\n",
       "      <td>amazing wow.</td>\n",
       "    </tr>\n",
       "    <tr>\n",
       "      <th>2</th>\n",
       "      <td>__label__best</td>\n",
       "      <td>You have made a good point actually...</td>\n",
       "    </tr>\n",
       "    <tr>\n",
       "      <th>3</th>\n",
       "      <td>__label__normal</td>\n",
       "      <td>I really like it and I dig this style!</td>\n",
       "    </tr>\n",
       "    <tr>\n",
       "      <th>4</th>\n",
       "      <td>__label__normal</td>\n",
       "      <td>Whoever laid and pointed these concrete slabs ...</td>\n",
       "    </tr>\n",
       "  </tbody>\n",
       "</table>\n",
       "</div>"
      ],
      "text/plain": [
       "             label                                               text\n",
       "0  __label__normal  Luke throwing the lightsaber over his shoulder...\n",
       "1  __label__normal                                       amazing wow.\n",
       "2    __label__best             You have made a good point actually...\n",
       "3  __label__normal             I really like it and I dig this style!\n",
       "4  __label__normal  Whoever laid and pointed these concrete slabs ..."
      ]
     },
     "execution_count": 31,
     "metadata": {},
     "output_type": "execute_result"
    }
   ],
   "source": [
    "train_data.head()"
   ]
  },
  {
   "cell_type": "code",
   "execution_count": 32,
   "metadata": {},
   "outputs": [
    {
     "data": {
      "text/plain": [
       "7219                             i thought it said grampa\n",
       "7220    TChalla just threw out a Nair. On a serious no...\n",
       "7221    This awesome. Makes me really miss the civil w...\n",
       "7222                             Let me kick You daintily\n",
       "7223    Beautifully realised, Marvel meets Hong Kong M...\n",
       "7224          The pose is great and awesome work with it.\n",
       "Name: comment_body, dtype: object"
      ]
     },
     "execution_count": 32,
     "metadata": {},
     "output_type": "execute_result"
    }
   ],
   "source": [
    "old = pd.read_csv('data/data.csv')\n",
    "old[7219:7225][\"comment_body\"].str.replace('([“”¨«»®´·º½¾¿¡§£₤‘’\\n\\r>])', '')"
   ]
  },
  {
   "cell_type": "code",
   "execution_count": 33,
   "metadata": {},
   "outputs": [
    {
     "data": {
      "text/html": [
       "<div>\n",
       "<style scoped>\n",
       "    .dataframe tbody tr th:only-of-type {\n",
       "        vertical-align: middle;\n",
       "    }\n",
       "\n",
       "    .dataframe tbody tr th {\n",
       "        vertical-align: top;\n",
       "    }\n",
       "\n",
       "    .dataframe thead th {\n",
       "        text-align: right;\n",
       "    }\n",
       "</style>\n",
       "<table border=\"1\" class=\"dataframe\">\n",
       "  <thead>\n",
       "    <tr style=\"text-align: right;\">\n",
       "      <th></th>\n",
       "      <th>label</th>\n",
       "      <th>text</th>\n",
       "    </tr>\n",
       "  </thead>\n",
       "  <tbody>\n",
       "  </tbody>\n",
       "</table>\n",
       "</div>"
      ],
      "text/plain": [
       "Empty DataFrame\n",
       "Columns: [label, text]\n",
       "Index: []"
      ]
     },
     "execution_count": 33,
     "metadata": {},
     "output_type": "execute_result"
    }
   ],
   "source": [
    "train_data[train_data.label == 0]"
   ]
  },
  {
   "cell_type": "code",
   "execution_count": null,
   "metadata": {},
   "outputs": [],
   "source": []
  }
 ],
 "metadata": {
  "kernelspec": {
   "display_name": "Python 3",
   "language": "python",
   "name": "python3"
  },
  "language_info": {
   "codemirror_mode": {
    "name": "ipython",
    "version": 3
   },
   "file_extension": ".py",
   "mimetype": "text/x-python",
   "name": "python",
   "nbconvert_exporter": "python",
   "pygments_lexer": "ipython3",
   "version": "3.7.4"
  }
 },
 "nbformat": 4,
 "nbformat_minor": 2
}
