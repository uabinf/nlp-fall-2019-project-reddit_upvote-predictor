{
 "cells": [
  {
   "cell_type": "code",
   "execution_count": 12,
   "metadata": {},
   "outputs": [
    {
     "name": "stdout",
     "output_type": "stream",
     "text": [
      "10000\n"
     ]
    }
   ],
   "source": [
    "\n",
    "d = pd.read_csv('data/all-labeled.csv')\n",
    "print(len(d))"
   ]
  },
  {
   "cell_type": "code",
   "execution_count": 13,
   "metadata": {},
   "outputs": [
    {
     "name": "stdout",
     "output_type": "stream",
     "text": [
      "8000\n"
     ]
    }
   ],
   "source": [
    "from simpletransformers.classification import ClassificationModel\n",
    "import pandas as pd\n",
    "\n",
    "\n",
    "train = pd.read_csv('data/train.csv')\n",
    "test = pd.read_csv('data/test.csv')\n",
    "print(len(train))"
   ]
  },
  {
   "cell_type": "code",
   "execution_count": 38,
   "metadata": {},
   "outputs": [],
   "source": [
    "# Create a ClassificationModel\n",
    "\n",
    "model = ClassificationModel('bert', 'bert-base-cased', num_labels=4, args={'reprocess_input_data': True, 'overwrite_output_dir': True, 'max_seq_length': 512,\n",
    "  'train_batch_size': 8, 'eval_batch_size': 8, 'gradient_accumulation_steps': 1, 'num_train_epochs': 1, 'weight_decay': 0,'learning_rate': 4e-5,}, use_cuda=False) \n",
    "# You can set class weights by using the optional weight argument # You can set class weights by using the optional weight argument"
   ]
  },
  {
   "cell_type": "code",
   "execution_count": 10,
   "metadata": {},
   "outputs": [
    {
     "name": "stdout",
     "output_type": "stream",
     "text": [
      "                                        comment_body  class\n",
      "0                       That doesn't make any sense.      1\n",
      "1  Nah, his wife called him out on it and he has ...      2\n",
      "2  [here ya go](https://www.reddit.com/r/DC_Cinem...      1\n",
      "3  Bruce doesn't get fooled, he just doesn't foll...      2\n",
      "4  But again, characters are changed all the time...      1\n",
      "2000\n"
     ]
    }
   ],
   "source": [
    "print(train.head())\n",
    "print(len(test))"
   ]
  },
  {
   "cell_type": "code",
   "execution_count": null,
   "metadata": {},
   "outputs": [],
   "source": [
    "# Train the model\n",
    "model.train_model(train,  output_dir=\"train_model/\")"
   ]
  },
  {
   "cell_type": "code",
   "execution_count": 6,
   "metadata": {},
   "outputs": [],
   "source": [
    "model = ClassificationModel('bert', 'train_model/', num_labels=4, use_cuda=False)"
   ]
  },
  {
   "cell_type": "code",
   "execution_count": 8,
   "metadata": {},
   "outputs": [
    {
     "name": "stdout",
     "output_type": "stream",
     "text": [
      "Converting to features started.\n"
     ]
    },
    {
     "data": {
      "application/vnd.jupyter.widget-view+json": {
       "model_id": "87ee04d8062841b6981afe2040158aa4",
       "version_major": 2,
       "version_minor": 0
      },
      "text/plain": [
       "HBox(children=(IntProgress(value=0, max=2000), HTML(value='')))"
      ]
     },
     "metadata": {},
     "output_type": "display_data"
    },
    {
     "name": "stdout",
     "output_type": "stream",
     "text": [
      "\n"
     ]
    },
    {
     "data": {
      "application/vnd.jupyter.widget-view+json": {
       "model_id": "c8ad7e90f31b40c09ed42ceb6e86fbb0",
       "version_major": 2,
       "version_minor": 0
      },
      "text/plain": [
       "HBox(children=(IntProgress(value=0, max=250), HTML(value='')))"
      ]
     },
     "metadata": {},
     "output_type": "display_data"
    },
    {
     "name": "stdout",
     "output_type": "stream",
     "text": [
      "\n",
      "{'mcc': 0.07309477111979087, 'f1': 0.4205, 'acc': 0.4205, 'eval_loss': 1.2471807968616486}\n",
      "[[-0.7186022   0.7862321   0.04581988  0.19923398]\n",
      " [-0.01355135  0.23499066 -0.19988894 -0.08167654]\n",
      " [-1.4700761   0.8139912   0.2144165   0.7806829 ]\n",
      " ...\n",
      " [-0.9407196   0.4142685   0.03903979  0.6482158 ]\n",
      " [-0.7018676   1.077219    0.09764957 -0.08623452]\n",
      " [-0.227575    0.8523251  -0.04968242 -0.2296805 ]]\n"
     ]
    }
   ],
   "source": [
    "# Evaluate the model\n",
    "\n",
    "from sklearn.metrics import f1_score, accuracy_score\n",
    "\n",
    "\n",
    "def f1_multiclass(labels, preds):\n",
    "    return f1_score(labels, preds, average='micro')\n",
    "\n",
    "def acc_multiclass(labels, preds):\n",
    "    return accuracy_score(labels, preds)\n",
    "\n",
    "result, model_outputs, wrong_predictions = model.eval_model(test, output_dir= \"test_model/\", f1=f1_multiclass, acc=acc_multiclass)\n",
    "print(result)\n",
    "print(model_outputs)\n",
    "\n",
    "#predictions, raw_outputs = model.predict(['This thing is entirely different from the other thing. '])\n",
    "#print(predictions)\n",
    "#print(raw_outputs)"
   ]
  },
  {
   "cell_type": "code",
   "execution_count": null,
   "metadata": {},
   "outputs": [],
   "source": []
  }
 ],
 "metadata": {
  "kernelspec": {
   "display_name": "Python 3",
   "language": "python",
   "name": "python3"
  },
  "language_info": {
   "codemirror_mode": {
    "name": "ipython",
    "version": 3
   },
   "file_extension": ".py",
   "mimetype": "text/x-python",
   "name": "python",
   "nbconvert_exporter": "python",
   "pygments_lexer": "ipython3",
   "version": "3.7.4"
  }
 },
 "nbformat": 4,
 "nbformat_minor": 2
}
