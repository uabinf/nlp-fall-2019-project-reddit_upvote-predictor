{
 "cells": [
  {
   "cell_type": "code",
   "execution_count": null,
   "metadata": {},
   "outputs": [],
   "source": [
    "from os.path import isfile\n",
    "import praw\n",
    "import pandas as pd\n",
    "from time import sleep\n",
    "# Get credentials from DEFAULT instance in praw.ini\n",
    "reddit = praw.Reddit()\n",
    "\n",
    "#Choosing Subreddit\n",
    "sub = reddit.subreddit('DC_Cinematic')\n",
    "#print(sub.description)\n",
    "\n",
    "\n",
    "#sub = reddit.subreddit('DC_Cinematic').top(limit=10)\n",
    "#printing the posts\n",
    "#for post in sub:\n",
    "#    print(post.title)"
   ]
  },
  {
   "cell_type": "code",
   "execution_count": null,
   "metadata": {},
   "outputs": [],
   "source": [
    "ids = []\n",
    "data = {\"comment_body\":[], \"upvotes\": []}\n",
    "\n",
    "def addTo(sub, data, ids):\n",
    "        for submission in sub:\n",
    "                if (submission.id not in ids):\n",
    "                        ids.append(submission.id)\n",
    "                        submission.comments.replace_more(limit=None)\n",
    "                        all_comments = submission.comments.list()\n",
    "                        for comment in all_comments:\n",
    "                                data[\"comment_body\"].append(comment.body)\n",
    "                                data[\"upvotes\"].append(comment.score)\n",
    "\n",
    "                                \n",
    "addTo(reddit.subreddit('DC_Cinematic').hot(limit=None), data, ids)\n",
    "addTo(reddit.subreddit('DC_Cinematic').top(limit=None), data, ids)\n",
    "df = pd.DataFrame(data)\n",
    "newdata = df.drop_duplicates(subset=\"comment_body\", keep=False, inplace=False)\n",
    "newdata=newdata.dropna()\n",
    "#newdata.to_csv('data.csv', mode = \"w\", index=False) \n",
    "print(len(df))"
   ]
  }
 ],
 "metadata": {
  "kernelspec": {
   "display_name": "Python 3",
   "language": "python",
   "name": "python3"
  },
  "language_info": {
   "codemirror_mode": {
    "name": "ipython",
    "version": 3
   },
   "file_extension": ".py",
   "mimetype": "text/x-python",
   "name": "python",
   "nbconvert_exporter": "python",
   "pygments_lexer": "ipython3",
   "version": "3.7.4"
  }
 },
 "nbformat": 4,
 "nbformat_minor": 2
}
