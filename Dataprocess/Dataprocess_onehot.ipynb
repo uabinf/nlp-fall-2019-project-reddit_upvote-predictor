{
 "cells": [
  {
   "cell_type": "code",
   "execution_count": 1,
   "metadata": {},
   "outputs": [],
   "source": [
    "import pandas as pd\n"
   ]
  },
  {
   "cell_type": "code",
   "execution_count": 2,
   "metadata": {},
   "outputs": [],
   "source": [
    "newdata = pd.read_csv('data/data.csv')\n",
    "newdata = newdata[0:10000]\n",
    "newdata['comment_body'] = newdata['comment_body'].str.replace('([“”¨«»®´·º½¾¿¡§£₤‘’\\n\\r>])', '')\n",
    "#newdata['comment_body'] = [data.replace(';', ':') for data in newdata['comment_body']]\n",
    "newdata['length'] = [len(x) for x in newdata['comment_body']]\n",
    "newdata = newdata.dropna()\n",
    "ids = [i for i in range(len(newdata))]\n",
    "ups = list(newdata[\"upvotes\"])"
   ]
  },
  {
   "cell_type": "code",
   "execution_count": null,
   "metadata": {},
   "outputs": [],
   "source": []
  },
  {
   "cell_type": "code",
   "execution_count": 3,
   "metadata": {},
   "outputs": [],
   "source": [
    "best = [1 if x>9 else 0 for x in ups]\n",
    "normal = [1 if (x>=1 and x<=3) else 0 for x in ups]\n",
    "good = [1 if (x>3 and x<=9) else 0 for x in ups]\n",
    "poor = [1 if x<1 else 0 for x in ups]\n",
    "newdata[\"ids\"] = ids\n",
    "newdata[\"best\"] = best\n",
    "newdata[\"normal\"] = normal\n",
    "newdata[\"good\"] = good\n",
    "newdata[\"poor\"] = poor\n",
    "newdata = newdata[newdata.length <= 512]\n",
    "newdata[\"text\"] = newdata[\"comment_body\"]\n",
    "cols = [\"text\", \"upvotes\", \"best\", \"normal\", \"good\", \"poor\"]\n",
    "newdata = newdata[cols]\n",
    "newdata\n",
    "newdata.to_csv(\"data/all-labeled-onehot.csv\", index=False)"
   ]
  },
  {
   "cell_type": "code",
   "execution_count": 4,
   "metadata": {},
   "outputs": [
    {
     "data": {
      "text/plain": [
       "7648"
      ]
     },
     "execution_count": 4,
     "metadata": {},
     "output_type": "execute_result"
    }
   ],
   "source": [
    "newdata = newdata.sample(frac=1).reset_index(drop=True)\n",
    "splitby = int(0.8*len(newdata))\n",
    "train_data = newdata[:splitby]\n",
    "test_data = newdata[splitby:]\n",
    "train_data = train_data.dropna()\n",
    "test_data = test_data.dropna()\n",
    "len(train_data)"
   ]
  },
  {
   "cell_type": "code",
   "execution_count": 5,
   "metadata": {},
   "outputs": [],
   "source": [
    "train_data.to_csv(\"fastdata/train.csv\", index=False, columns=[\"text\", \"best\", \"normal\", \"good\", \"poor\"])\n",
    "test_data.to_csv(\"fastdata/test.csv\", index=False, columns=[\"text\", \"best\", \"normal\", \"good\", \"poor\"])"
   ]
  },
  {
   "cell_type": "code",
   "execution_count": 6,
   "metadata": {},
   "outputs": [
    {
     "data": {
      "text/plain": [
       "7648"
      ]
     },
     "execution_count": 6,
     "metadata": {},
     "output_type": "execute_result"
    }
   ],
   "source": [
    "train=pd.read_csv('fastdata/train.csv')\n",
    "len(train)"
   ]
  },
  {
   "cell_type": "code",
   "execution_count": 7,
   "metadata": {},
   "outputs": [],
   "source": [
    "l = {}\n",
    "l['labels'] = [\"best\", \"normal\", \"good\", \"poor\"]\n",
    "l = pd.DataFrame(l)\n",
    "l.to_csv(\"labels.csv\", index=False)"
   ]
  },
  {
   "cell_type": "code",
   "execution_count": null,
   "metadata": {},
   "outputs": [],
   "source": []
  },
  {
   "cell_type": "code",
   "execution_count": null,
   "metadata": {},
   "outputs": [],
   "source": []
  }
 ],
 "metadata": {
  "kernelspec": {
   "display_name": "Python 3",
   "language": "python",
   "name": "python3"
  },
  "language_info": {
   "codemirror_mode": {
    "name": "ipython",
    "version": 3
   },
   "file_extension": ".py",
   "mimetype": "text/x-python",
   "name": "python",
   "nbconvert_exporter": "python",
   "pygments_lexer": "ipython3",
   "version": "3.7.4"
  }
 },
 "nbformat": 4,
 "nbformat_minor": 2
}
